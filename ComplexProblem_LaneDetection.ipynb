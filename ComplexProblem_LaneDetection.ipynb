{
 "cells": [
  {
   "cell_type": "code",
   "execution_count": 5,
   "id": "fac76aa1",
   "metadata": {},
   "outputs": [],
   "source": [
    "#importing required libraries.\n",
    "import cv2\n",
    "import numpy as np\n",
    "import matplotlib.pyplot as plt "
   ]
  },
  {
   "cell_type": "code",
   "execution_count": 13,
   "id": "85b345c4",
   "metadata": {},
   "outputs": [],
   "source": [
    "#step1:function for canny edge detection\n",
    "def canny(image):\n",
    "    #converting image from RGB to grayscale.\n",
    "    gray = cv2.cvtColor(image, cv2.COLOR_RGB2GRAY) \n",
    "    #applying gaussianblur on the input.\n",
    "    blur = cv2.GaussianBlur(gray, (5,5), 0)\n",
    "    #applying canny edge detection on the input. \n",
    "    canny = cv2.Canny(blur, 50, 150)\n",
    "    return canny"
   ]
  },
  {
   "cell_type": "code",
   "execution_count": 14,
   "id": "a6cba588",
   "metadata": {},
   "outputs": [],
   "source": [
    "#step2:getting the region of interest from the input.\n",
    "def roi(image):\n",
    "    height = image.shape[0]\n",
    "    polygons= np.array([[(100, height), (700, height), (380, 260)]])\n",
    "    mask = np.zeros_like(image)\n",
    "    cv2.fillPoly(mask, polygons, 255)\n",
    "    masked_image = cv2.bitwise_and(image, mask)\n",
    "    return masked_image"
   ]
  },
  {
   "cell_type": "code",
   "execution_count": 15,
   "id": "956c31e2",
   "metadata": {},
   "outputs": [],
   "source": [
    "#step3:getting straight lines\n",
    "def display_lines(image, lines):\n",
    "    line_image = np.zeros_like(image)\n",
    "    if lines is not None: \n",
    "        for line in lines:\n",
    "            x1, y1, x2, y2 = line.reshape(4)\n",
    "            cv2.line(line_image, (x1, y1), (x2, y2), (0,0,255), 3)\n",
    "    return line_image"
   ]
  },
  {
   "cell_type": "code",
   "execution_count": 16,
   "id": "f93f8ed7",
   "metadata": {},
   "outputs": [],
   "source": [
    "#step4:a fuction that returns all the coordinates\n",
    "def make_coordinates(image, line_parameters):\n",
    "    slope, intercept = line_parameters\n",
    "    y1 = image.shape[0]\n",
    "    y2 = int(y1*(3.5/5))\n",
    "    x1 = int((y1 - intercept)/slope)\n",
    "    x2 = int((y2 - intercept)/slope)\n",
    "    return np.array([x1, y1, x2, y2])\n",
    "    "
   ]
  },
  {
   "cell_type": "code",
   "execution_count": 17,
   "id": "9f88a94b",
   "metadata": {},
   "outputs": [],
   "source": [
    "#step5:function for getting smooth lines in the output.\n",
    "def average_slope_intercept(image, lines):\n",
    "    left_fit = []\n",
    "    right_fit = []\n",
    "    for line in lines:\n",
    "        x1, y1, x2, y2 = line.reshape(4)\n",
    "        parameters = np.polyfit((x1, x2), (y1, y2), 1)\n",
    "        slope = parameters[0]\n",
    "        intercept = parameters[1]\n",
    "        if slope < 0:\n",
    "            left_fit.append((slope, intercept))\n",
    "        else:\n",
    "            right_fit.append((slope, intercept))\n",
    "    \n",
    "    \n",
    "    # Ensure that list are not empty\n",
    "    if len(right_fit) == len(left_fit) == 0:\n",
    "        return np.array([])\n",
    "    if len(left_fit) == 0:\n",
    "        right_fit_avg = np.average(right_fit, axis=0)\n",
    "        right_line = make_coordinates(image, right_fit_avg)\n",
    "        return np.array([right_line])\n",
    "    elif len(right_fit) == 0:\n",
    "        left_fit_avg = np.average(left_fit, axis=0)\n",
    "        left_line = make_coordinates(image, left_fit_avg)\n",
    "        return np.array([left_line])\n",
    "\n",
    "    left_fit_avg = np.average(left_fit, axis=0)\n",
    "    right_fit_avg = np.average(right_fit, axis=0)\n",
    "    left_line = make_coordinates(image, left_fit_avg)\n",
    "    right_line = make_coordinates(image, right_fit_avg)\n",
    "    return np.array([left_line, right_line])\n",
    "  "
   ]
  },
  {
   "cell_type": "code",
   "execution_count": null,
   "id": "7cf6ef72",
   "metadata": {},
   "outputs": [],
   "source": [
    "#script for applying lane detection on images\n",
    "image = cv2.imread('Lane_image4.jpg')\n",
    "lane_image = np.copy(image)\n",
    "canny_image = canny(lane_image)\n",
    "\n",
    "cropped_image = roi(canny_image)\n",
    "lines = cv2.HoughLinesP(cropped_image, 2, np.pi/180, 100, np.array([]), minLineLength=40, maxLineGap=5)\n",
    "averaged_lines = average_slope_intercept(lane_image, lines)\n",
    "\n",
    "line_image = display_lines(lane_image, averaged_lines)\n",
    "combine_image = cv2.addWeighted(lane_image, 0.8, line_image, 1, 1)\n",
    "cv2.imshow(\"Result\", combine_image)\n",
    "cv2.waitKey(0)\n",
    "\n",
    "plt.imshow(canny_image)\n",
    "plt.show()\n"
   ]
  },
  {
   "cell_type": "code",
   "execution_count": null,
   "id": "dbc88aa1",
   "metadata": {},
   "outputs": [],
   "source": [
    "#script for applying lane detection on images. \n",
    "\n",
    "Video = cv2.VideoCapture(\"solidYellowLeft.mp4\")\n",
    "while(Video.isOpened()):\n",
    "    _, frame = Video.read()\n",
    "    canny_image = canny(frame)\n",
    "    cropped_image = roi(canny_image)\n",
    "    lines = cv2.HoughLinesP(cropped_image, 2, np.pi/180, 100, np.array([]), minLineLength=40, maxLineGap=5)\n",
    "    averaged_lines = average_slope_intercept(frame, lines)\n",
    "    line_image = display_lines(frame, averaged_lines)\n",
    "    combine_image = cv2.addWeighted(frame, 0.8, line_image, 1, 1)\n",
    "    cv2.imshow(\"Result\", combine_image)\n",
    "    if cv2.waitKey(1) & 0xFF == ord('q'):\n",
    "        break\n",
    "    else:\n",
    "        continue\n",
    "Video.release()\n",
    "cv2.destroyAllWindows()\n",
    "    "
   ]
  },
  {
   "cell_type": "code",
   "execution_count": null,
   "id": "9893d5d3",
   "metadata": {},
   "outputs": [],
   "source": []
  }
 ],
 "metadata": {
  "kernelspec": {
   "display_name": "Python 3 (ipykernel)",
   "language": "python",
   "name": "python3"
  },
  "language_info": {
   "codemirror_mode": {
    "name": "ipython",
    "version": 3
   },
   "file_extension": ".py",
   "mimetype": "text/x-python",
   "name": "python",
   "nbconvert_exporter": "python",
   "pygments_lexer": "ipython3",
   "version": "3.9.7"
  }
 },
 "nbformat": 4,
 "nbformat_minor": 5
}
